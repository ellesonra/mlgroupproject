{
 "cells": [
  {
   "cell_type": "code",
   "execution_count": 3,
   "id": "6db9c47d",
   "metadata": {},
   "outputs": [],
   "source": [
    "import pandas as pd\n",
    "from sklearn.metrics import confusion_matrix\n",
    "from sklearn.metrics import classification_report\n",
    "from sklearn.model_selection import train_test_split\n",
    "import math\n",
    "import numpy as np\n",
    "from sklearn.metrics import accuracy_score\n",
    "#from tqdm import tqdm\n",
    "from sklearn.neural_network import MLPClassifier\n",
    "from sklearn.metrics import mean_squared_error\n",
    "import random"
   ]
  },
  {
   "cell_type": "code",
   "execution_count": 10,
   "id": "673c03e4",
   "metadata": {},
   "outputs": [
    {
     "name": "stdout",
     "output_type": "stream",
     "text": [
      "Len Input: 9\n",
      "Len Output: 4\n"
     ]
    }
   ],
   "source": [
    "\n",
    "x_train = pd.read_csv(\"drugs_x_train.csv\")\n",
    "y_train = pd.read_csv(\"drugs_y_train.csv\")\n",
    "x_test  = pd.read_csv(\"drugs_x_test.csv\")\n",
    "y_test  = pd.read_csv(\"drugs_y_test.csv\")\n",
    "len_input = len(x_train.columns)\n",
    "len_output = len(y_train.columns)\n",
    "\n",
    "print(\"Len Input: {}\".format(len_input))\n",
    "print(\"Len Output: {}\".format(len_output))"
   ]
  },
  {
   "cell_type": "code",
   "execution_count": 7,
   "id": "92fb310c",
   "metadata": {},
   "outputs": [],
   "source": [
    "def objective_function(x, y, x_validation, y_validation, params):\n",
    "    model = MLPClassifier(\n",
    "        random_state=1, \n",
    "        max_iter=1000,\n",
    "        alpha=params['alpha'],\n",
    "        learning_rate_init=params['learning_rate']\n",
    "    )\n",
    "\n",
    "    model.fit(x, y)\n",
    "\n",
    "    predictions = model.predict(x_validation)\n",
    "\n",
    "    return mean_squared_error(predictions, y_validation)"
   ]
  },
  {
   "cell_type": "code",
   "execution_count": 14,
   "id": "ee00f829",
   "metadata": {},
   "outputs": [],
   "source": [
    "grid_parameters = [\n",
    "    { 'alpha': 0.002, 'learning_rate': 0.01 },\n",
    "    { 'alpha': 0.003, 'learning_rate': 0.009 },\n",
    "    { 'alpha': 0.004, 'learning_rate': 0.008 },\n",
    "    { 'alpha': 0.005, 'learning_rate': 0.007 },\n",
    "    { 'alpha': 0.006, 'learning_rate': 0.006 },\n",
    "    { 'alpha': 0.007, 'learning_rate': 0.005 },\n",
    "    { 'alpha': 0.008, 'learning_rate': 0.004 },\n",
    "    { 'alpha': 0.009, 'learning_rate': 0.003 }\n",
    "]"
   ]
  },
  {
   "cell_type": "code",
   "execution_count": 15,
   "id": "9c767691",
   "metadata": {},
   "outputs": [
    {
     "name": "stdout",
     "output_type": "stream",
     "text": [
      "Loss: 0.0\n",
      "Loss: 0.0\n",
      "Loss: 0.0\n",
      "Loss: 0.0\n",
      "Loss: 0.0\n",
      "Best Loss: 0.0\n",
      "Best params: {'alpha': 0.002, 'learning_rate': 0.01}\n"
     ]
    }
   ],
   "source": [
    "best_params = None\n",
    "current_loss = 1000\n",
    "\n",
    "for params in grid_parameters:\n",
    "    loss = objective_function(x_train.values, y_train.values, x_test.values, y_test.values, params)\n",
    "    print(\"Loss: {}\".format(loss))\n",
    "\n",
    "    if loss < current_loss:\n",
    "        best_params = params\n",
    "        current_loss = loss\n",
    "\n",
    "print(\"Best Loss: {}\".format(current_loss))\n",
    "print(\"Best params: {}\".format(best_params))"
   ]
  },
  {
   "cell_type": "code",
   "execution_count": 12,
   "id": "e8b22089",
   "metadata": {},
   "outputs": [
    {
     "name": "stdout",
     "output_type": "stream",
     "text": [
      "Loss: 0.0\n",
      "Loss: 0.0\n",
      "Loss: 0.0\n",
      "Loss: 0.0\n",
      "Loss: 0.0\n",
      "Loss: 0.0\n",
      "Loss: 0.0\n",
      "Loss: 0.0\n",
      "Loss: 0.0\n",
      "Loss: 0.0\n",
      "Best Loss: 0.0\n",
      "Best params: {'alpha': 0.0085, 'learning_rate': 0.0025}\n"
     ]
    }
   ],
   "source": [
    "num_samples = 10\n",
    "best_params = None\n",
    "current_loss = 1000\n",
    "\n",
    "for i in range(num_samples):\n",
    "    params = {\n",
    "        'alpha': random.randrange(0, 100) * 0.0001,\n",
    "        'learning_rate': random.randrange(0, 100) * 0.0001\n",
    "    }\n",
    "\n",
    "    loss = objective_function(x_train.values, y_train.values, x_test.values, y_test.values, params)\n",
    "    print(\"Loss: {}\".format(loss))\n",
    "\n",
    "    if loss < current_loss:\n",
    "        best_params = params\n",
    "        current_loss = loss\n",
    "\n",
    "print(\"Best Loss: {}\".format(current_loss))\n",
    "print(\"Best params: {}\".format(best_params))"
   ]
  },
  {
   "cell_type": "code",
   "execution_count": null,
   "id": "6fd71d6d",
   "metadata": {},
   "outputs": [],
   "source": [
    "# Building my current belief\n",
    "x_samples = []\n",
    "y_samples = []\n",
    "\n",
    "num_samples = 10\n",
    "for i in range(num_samples):\n",
    "    params = {\n",
    "        'alpha': random.randrange(0, 100) * 0.0001,\n",
    "        'learning_rate': random.randrange(0, 100) * 0.0001\n",
    "    }\n",
    "\n",
    "    loss = objective_function(x_train.values, y_train.values, x_test.values, y_test.values, params)\n",
    "    print(\"Loss: {}\".format(loss))\n",
    "\n",
    "    x1 = params['alpha']\n",
    "    x2 = params['learning_rate']\n",
    "    y = loss\n",
    "\n",
    "    x_samples.append([x1, x2])\n",
    "    y_samples.append([y])"
   ]
  }
 ],
 "metadata": {
  "kernelspec": {
   "display_name": "Python 3 (ipykernel)",
   "language": "python",
   "name": "python3"
  },
  "language_info": {
   "codemirror_mode": {
    "name": "ipython",
    "version": 3
   },
   "file_extension": ".py",
   "mimetype": "text/x-python",
   "name": "python",
   "nbconvert_exporter": "python",
   "pygments_lexer": "ipython3",
   "version": "3.10.7"
  }
 },
 "nbformat": 4,
 "nbformat_minor": 5
}
